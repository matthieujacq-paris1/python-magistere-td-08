{
 "cells": [
  {
   "cell_type": "markdown",
   "metadata": {},
   "source": [
    "> ### Vérification de la configuration\n",
    "> Vérifiez que Python et les tests fonctionnent correctement en exécutant les deux cellules ci-dessous."
   ]
  },
  {
   "cell_type": "code",
   "execution_count": null,
   "metadata": {},
   "outputs": [],
   "source": [
    "print(\"✅ Python works!\")\n",
    "from sys import version\n",
    "print(version)"
   ]
  },
  {
   "cell_type": "code",
   "execution_count": null,
   "metadata": {},
   "outputs": [],
   "source": [
    "import ipytest\n",
    "ipytest.autoconfig()\n",
    "ipytest.clean()\n",
    "def test_all_good():\n",
    "    assert \"🐍\" == \"🐍\"\n",
    "ipytest.run()"
   ]
  },
  {
   "cell_type": "markdown",
   "metadata": {},
   "source": [
    "# Nombres binaires et hexadécimaux\n",
    "\n",
    "## Les nombres en base 10 (ceux que nous utilisons tous les jours)\n",
    "\n",
    "La décomposition d'un nombre en base 10 se fait en multipliant chaque chiffre par une puissance de 10.\n",
    "\n",
    "Par exemple, le nombre `123` se décompose en `1*10^2 + 2*10^1 + 3*10^0 = 100 + 20 + 3 = 123`.\n",
    "\n",
    "## Les nombres binaires\n",
    "\n",
    "Les nombres binaires sont des nombres écrits en base 2 donc composés uniquement de 0 et de 1. Par exemple, le nombre binaire `1001` est équivalent au nombre décimal `9` en base 10.\n",
    "\n",
    "Décomposons un nombre binaires en base 2 `1011` en base 10, en lisant de gauche à droite : `1*2^3 + 0*2^2 + 1*2^1 + 1*2^0 = 8 + 0 + 2 + 1 = 11`.\n",
    "\n",
    "En python, pour utiliser un nombre binaire, il suffit de le **préfixer par `0b`**. Par exemple, `0b1011` est équivalent à `11`.\n",
    "\n",
    "## Les nombres hexadécimaux\n",
    "\n",
    "Les nombres hexadécimaux sont des nombres écrits en base 16. Ils sont composés de 16 chiffres : `0 1 2 3 4 5 6 7 8 9 A B C D E F`. Les chiffres `A` à `F` représentent respectivement les nombres `10` à `15`.\n",
    "\n",
    "Décomposons un nombre hexadécimal `1B3` en base 10, en lisant de gauche à droite : `1*16^2 + 11*16^1 + 3*16^0 = 1*256 + 11*16 + 3*1 = 256 + 176 + 3 = 435`.\n",
    "\n",
    "> ⚠️ Si vous voyez une lettre supérieure à `F` dans un nombre hexadécimal, c'est que le nombre est mal écrit.\n",
    "\n",
    "En python, pour utiliser un nombre hexadécimal, il suffit de le **préfixer par `0x`**. Par exemple, `0x1B3` est équivalent à `435`.\n",
    "\n",
    "## Conversion entre les bases\n",
    "\n",
    "Pour convertir une chaîne de caractères en un nombre, on peut utiliser la fonction `int()` en lui passant la chaîne de caractères et la base de la chaîne de caractères. Par exemple, `int('1011', 2)` renvoie `11` et `int('1B3', 16)` renvoie `435`.\n",
    "\n",
    "Pour convertir un nombre en une chaîne de caractères, on peut utiliser la fonction `bin()` pour les nombres binaires et `hex()` pour les nombres hexadécimaux. Par exemple, `bin(11)` renvoie `'0b1011'` et `hex(435)` renvoie `'0x1b3'`.\n",
    "\n",
    "## Les opérateurs binaires\n",
    "\n",
    "Les opérateurs binaires sont des opérateurs qui agissent sur les bits des nombres binaires. Les opérateurs binaires les plus courants sont :\n",
    "- `&` : l'opérateur `ET` binaire -> `0b1001 & 0b1100 = 0b1000` (ne garde que les bits communs aux deux nombres)\n",
    "- `|` : l'opérateur `OU` binaire -> `0b1001 | 0b1100 = 0b1101` (garde tous les bits présents dans les deux nombres)\n",
    "- `^` : l'opérateur `OU EXCLUSIF` binaire -> `0b1001 ^ 0b1100 = 0b0101` (garde les bits présents dans un seul des deux nombres)\n",
    "- `~` : l'opérateur `NON` binaire -> `~0b1001 = 0b0110` (inverse tous les bits du nombre)\n",
    "- `<<` : l'opérateur `décalage à gauche` binaire -> `0b1001 << 2 = 0b100100` (décale les bits de 2 vers la gauche)\n",
    "- `>>` : l'opérateur `décalage à droite` binaire -> `0b1001 >> 2 = 0b10` (décale les bits de 2 vers la droite)\n",
    "\n"
   ]
  },
  {
   "cell_type": "code",
   "execution_count": null,
   "metadata": {},
   "outputs": [],
   "source": [
    "# 🏖️ Sandbox for testing code\n",
    "print(hex(21))"
   ]
  },
  {
   "cell_type": "code",
   "execution_count": null,
   "metadata": {},
   "outputs": [],
   "source": [
    "# 🏁 All done!\n"
   ]
  }
 ],
 "metadata": {
  "kernelspec": {
   "display_name": "Python 3",
   "language": "python",
   "name": "python3"
  },
  "language_info": {
   "codemirror_mode": {
    "name": "ipython",
    "version": 3
   },
   "file_extension": ".py",
   "mimetype": "text/x-python",
   "name": "python",
   "nbconvert_exporter": "python",
   "pygments_lexer": "ipython3",
   "version": "3.11.5"
  }
 },
 "nbformat": 4,
 "nbformat_minor": 2
}
